{
  "nbformat": 4,
  "nbformat_minor": 0,
  "metadata": {
    "colab": {
      "provenance": [],
      "authorship_tag": "ABX9TyPpqZE7ASqvLwWot1rnM+JR",
      "include_colab_link": true
    },
    "kernelspec": {
      "name": "python3",
      "display_name": "Python 3"
    },
    "language_info": {
      "name": "python"
    }
  },
  "cells": [
    {
      "cell_type": "markdown",
      "metadata": {
        "id": "view-in-github",
        "colab_type": "text"
      },
      "source": [
        "<a href=\"https://colab.research.google.com/github/realthomasnilsson/car/blob/master/atr.ipynb\" target=\"_parent\"><img src=\"https://colab.research.google.com/assets/colab-badge.svg\" alt=\"Open In Colab\"/></a>"
      ]
    },
    {
      "cell_type": "code",
      "execution_count": null,
      "metadata": {
        "id": "5zOejLKlTnSn",
        "colab": {
          "base_uri": "https://localhost:8080/"
        },
        "outputId": "c3b21095-dd86-42e5-9fc5-46ae955b6200"
      },
      "outputs": [
        {
          "name": "stdout",
          "output_type": "stream",
          "text": [
            "Enter the stock ticker (e.g., 'MSFT'): OSPN\n"
          ]
        },
        {
          "output_type": "stream",
          "name": "stderr",
          "text": [
            "\r[*********************100%%**********************]  1 of 1 completed"
          ]
        },
        {
          "output_type": "stream",
          "name": "stdout",
          "text": [
            "            Close       ATR\n",
            "Date                       \n",
            "2024-03-15  10.32  0.771429\n",
            "2024-03-18  10.19  0.778572\n",
            "2024-03-19  10.66  0.797857\n",
            "2024-03-20  11.08  0.817143\n",
            "2024-03-21  11.26  0.795357\n"
          ]
        },
        {
          "output_type": "stream",
          "name": "stderr",
          "text": [
            "\n"
          ]
        }
      ],
      "source": [
        "import yfinance as yf\n",
        "import numpy as np\n",
        "\n",
        "# Function to calculate the Average True Range (ATR)\n",
        "def calculate_atr(df, period=14):\n",
        "    df['High-Low'] = df['High'] - df['Low']\n",
        "    df['High-PrevClose'] = abs(df['High'] - df['Close'].shift(1))\n",
        "    df['Low-PrevClose'] = abs(df['Low'] - df['Close'].shift(1))\n",
        "    df['TrueRange'] = df[['High-Low', 'High-PrevClose', 'Low-PrevClose']].max(axis=1)\n",
        "    df['ATR'] = df['TrueRange'].rolling(window=period).mean()\n",
        "    return df['ATR']\n",
        "\n",
        "# User input for the stock ticker\n",
        "ticker = input(\"Enter the stock ticker (e.g., 'MSFT'): \")\n",
        "\n",
        "# Downloading historical stock data\n",
        "data = yf.download(ticker, start=\"2020-01-01\")\n",
        "\n",
        "# Calculating the ATR\n",
        "data['ATR'] = calculate_atr(data)\n",
        "\n",
        "print(data[['Close', 'ATR']].tail())  # Displaying the closing price and ATR\n"
      ]
    },
    {
      "cell_type": "code",
      "source": [
        "import yfinance as yf\n",
        "\n",
        "ticker = input(\"Enter the stock ticker (e.g., 'MSFT'): \")\n",
        "data = yf.download(ticker, start=\"2020-01-01\")\n",
        "data['TR'] = abs(data['High'] - data['Low'])\n",
        "data['ATR'] = data['TR'].rolling(window=14).mean()\n",
        "print(data[['Close', 'ATR']].tail())\n"
      ],
      "metadata": {
        "id": "dYbw5XXys-pX",
        "colab": {
          "base_uri": "https://localhost:8080/"
        },
        "outputId": "450f68fd-ec91-43a7-811d-405706b1cbc3"
      },
      "execution_count": null,
      "outputs": [
        {
          "name": "stdout",
          "output_type": "stream",
          "text": [
            "Enter the stock ticker (e.g., 'MSFT'): EMBRAC-B.ST\n"
          ]
        },
        {
          "output_type": "stream",
          "name": "stderr",
          "text": [
            "\r[*********************100%%**********************]  1 of 1 completed"
          ]
        },
        {
          "output_type": "stream",
          "name": "stdout",
          "text": [
            "                Close       ATR\n",
            "Date                           \n",
            "2024-03-22  18.714001  1.325286\n",
            "2024-03-25  18.996000  1.348143\n",
            "2024-03-26  18.700001  1.318857\n",
            "2024-03-27  20.450001  1.372429\n",
            "2024-03-28  21.950001  1.471357\n"
          ]
        },
        {
          "output_type": "stream",
          "name": "stderr",
          "text": [
            "\n"
          ]
        }
      ]
    },
    {
      "cell_type": "code",
      "source": [],
      "metadata": {
        "id": "b15JMcJCuJ76"
      },
      "execution_count": null,
      "outputs": []
    }
  ]
}